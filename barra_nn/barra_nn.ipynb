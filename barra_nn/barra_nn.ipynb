{
 "cells": [
  {
   "cell_type": "code",
   "execution_count": 129,
   "id": "c1f65729-ea4e-45a8-b330-fddb52f08b92",
   "metadata": {},
   "outputs": [],
   "source": [
    "import numpy as np\n",
    "import matplotlib.pyplot as plt\n",
    "import matplotlib.cm as cm\n",
    "\n",
    "import torch\n",
    "import torch.nn as nn\n",
    "import torch.optim as optim\n",
    "\n",
    "from sklearn.linear_model import Ridge\n",
    "\n",
    "from rich.progress import track\n"
   ]
  },
  {
   "cell_type": "code",
   "execution_count": 161,
   "id": "6edf8b95-73d1-4dfd-9635-9570b5acd82d",
   "metadata": {},
   "outputs": [],
   "source": [
    "def arma(T, a, b, sigma):\n",
    "    e = sigma*np.random.normal(size=T)\n",
    "    for t in range(1,T):\n",
    "        e[t] = a*e[t-1] + e[t]\n",
    "    \n",
    "    x = np.zeros(T)\n",
    "    x[0] = e[0]\n",
    "    for t in range(1,T):\n",
    "        x[t] = b*x[t-1] + e[t]\n",
    "        \n",
    "    return x"
   ]
  },
  {
   "cell_type": "markdown",
   "id": "c16ca832-9bbe-4b6d-8e86-172a8b4d88eb",
   "metadata": {},
   "source": [
    "## Model\n",
    "* Let $r_t$ be stock returns and $\\beta_t$ be the barra exposure\n",
    "* Assuming $r_t = g_\\theta(\\beta_t) \\, S_t + \\epsilon_t$\n",
    "* Dimension of $g_\\theta(\\beta_t)$ is $n \\times k$, where $k$ can be larger or smaller than $p$\n",
    "* I use a neural net to fit $g_\\theta$ from $r_t$ and $S_t$\n",
    "* Once $g_\\theta$ is found, I use ridge to fit $S_t$\n",
    "* Repeat until correl between predicted and true does not move"
   ]
  },
  {
   "cell_type": "markdown",
   "id": "dc1c249b-60c7-4a62-8940-6a780a2a9ef4",
   "metadata": {},
   "source": [
    "## Definition of `BarraNet`"
   ]
  },
  {
   "cell_type": "code",
   "execution_count": 144,
   "id": "bda65d04-0e92-41a2-b446-cf89a48e413b",
   "metadata": {},
   "outputs": [],
   "source": [
    "class BetaNet(nn.Module):\n",
    "    def __init__(self, n, p, k, hidden_dims=[512, 256, 128]):\n",
    "        super().__init__()\n",
    "        self.n = n\n",
    "        self.p = p\n",
    "        self.k = k  # Output matrix has k columns\n",
    "        \n",
    "        # Network that processes beta to produce transformation\n",
    "        layers = []\n",
    "        input_dim = n * p  # flattened beta\n",
    "        \n",
    "        for hidden_dim in hidden_dims:\n",
    "            layers.extend([\n",
    "                nn.Linear(input_dim, hidden_dim),\n",
    "                nn.ReLU(),\n",
    "            ])\n",
    "            input_dim = hidden_dim\n",
    "        \n",
    "        # Output produces n*k values (reshaped to n x k matrix)\n",
    "        layers.append(nn.Linear(input_dim, n * k))\n",
    "        self.network = nn.Sequential(*layers)\n",
    "    \n",
    "    def g(self, beta):\n",
    "        \"\"\"\n",
    "        Extract g(beta) - the learned transformation function\n",
    "        beta: (batch, n, p)\n",
    "        returns: (batch, n, k) - the transformation matrix\n",
    "        \"\"\"\n",
    "        batch_size = beta.shape[0]\n",
    "        beta_flat = beta.reshape(batch_size, -1)\n",
    "        g_flat = self.network(beta_flat)  # (batch, n*k)\n",
    "        return g_flat.reshape(batch_size, self.n, self.k)  # (batch, n, k)\n",
    "    \n",
    "    def forward(self, beta, R):\n",
    "        # beta: (batch, n, p)\n",
    "        # R: (batch, k)  # NOTE: R must now have k columns\n",
    "        \n",
    "        # Get g(beta) as (batch, n, k) matrix\n",
    "        g_beta = self.g(beta)  # (batch, n, k)\n",
    "        \n",
    "        # Matrix multiplication: (batch, n, k) @ (batch, k, 1) -> (batch, n, 1)\n",
    "        r_pred = torch.bmm(g_beta, R.unsqueeze(-1)).squeeze(-1)  # (batch, n)\n",
    "        \n",
    "        return r_pred"
   ]
  },
  {
   "cell_type": "markdown",
   "id": "b5f03fd0-8c0d-43a9-be9b-5e595e10c925",
   "metadata": {},
   "source": [
    "## Generate Random Data"
   ]
  },
  {
   "cell_type": "code",
   "execution_count": 248,
   "id": "84352ab8-a9d6-4bf3-b1e8-cf1d06992230",
   "metadata": {},
   "outputs": [
    {
     "name": "stdout",
     "output_type": "stream",
     "text": [
      "0.9795061425091572\n",
      "CPU times: user 164 ms, sys: 3.5 ms, total: 167 ms\n",
      "Wall time: 166 ms\n"
     ]
    }
   ],
   "source": [
    "%%time\n",
    "\n",
    "T = 200\n",
    "n = 200\n",
    "p = 10\n",
    "\n",
    "## set seed\n",
    "np.random.seed(56)\n",
    "\n",
    "## set beta[t]\n",
    "beta = np.zeros((T,n,p))\n",
    "for i in range(n):\n",
    "    for j in range(p):\n",
    "        beta[:,i,j] = arma(T, a=0.95, b=0.95, sigma=0.025)\n",
    "\n",
    "for t in range(T):\n",
    "    for j in range(p):\n",
    "        beta[t,:,j] = (beta[t,:,j] - beta[t,:,j].mean()) / beta[t,:,j].std()\n",
    "\n",
    "## R[t] and e[t]\n",
    "R = np.random.randn(T,p)\n",
    "e = np.random.rand(T,n)\n",
    "\n",
    "r = np.zeros((T,n))\n",
    "r_expl = np.zeros((T,n))\n",
    "for t in range(T):\n",
    "    r[t] = beta[t] @ R[t] + 2*e[t]\n",
    "    r_expl[t] = beta[t] @ R[t]\n",
    "\n",
    "rho_expl = np.zeros(T)\n",
    "for t in range(T):\n",
    "    rho_expl[t] = np.corrcoef(r[t], r_expl[t])[0,1]\n",
    "rho_expl_avg = np.mean(rho_expl)\n",
    "print(rho_expl_avg)"
   ]
  },
  {
   "cell_type": "markdown",
   "id": "df2828f9-d529-4d29-9ca2-b82a34eb0cdb",
   "metadata": {},
   "source": [
    "## Fit"
   ]
  },
  {
   "cell_type": "code",
   "execution_count": 249,
   "id": "ad2f6e7e-052c-4968-9a67-31413037002f",
   "metadata": {},
   "outputs": [
    {
     "data": {
      "application/vnd.jupyter.widget-view+json": {
       "model_id": "a69d4cf259a14570a29d833ed8a5c15e",
       "version_major": 2,
       "version_minor": 0
      },
      "text/plain": [
       "Output()"
      ]
     },
     "metadata": {},
     "output_type": "display_data"
    },
    {
     "data": {
      "text/html": [
       "<pre style=\"white-space:pre;overflow-x:auto;line-height:normal;font-family:Menlo,'DejaVu Sans Mono',consolas,'Courier New',monospace\"></pre>\n"
      ],
      "text/plain": []
     },
     "metadata": {},
     "output_type": "display_data"
    },
    {
     "name": "stdout",
     "output_type": "stream",
     "text": [
      "CPU times: user 26.1 s, sys: 6.2 s, total: 32.3 s\n",
      "Wall time: 26.7 s\n"
     ]
    }
   ],
   "source": [
    "%%time\n",
    "\n",
    "## model dimension\n",
    "k = 3\n",
    "\n",
    "# Convert your data to tensors\n",
    "r_data = torch.from_numpy(r).float()\n",
    "beta_data = torch.from_numpy(beta).float()\n",
    "\n",
    "## nb_iter\n",
    "nb_iter = 100\n",
    "\n",
    "rho_avg = np.zeros(nb_iter)\n",
    "\n",
    "## Initialize S_hat\n",
    "S_hat = np.random.randn(T,k)\n",
    "S_data = torch.from_numpy(S_hat).float()\n",
    "\n",
    "for l in track(range(nb_iter)):\n",
    "\n",
    "    # Create model\n",
    "    model = BetaNet(n, p, k, hidden_dims=[64, 32])\n",
    "\n",
    "    #model = BetaNet(n, p, k, hidden_dims=[512, 256, 128])\n",
    "    \n",
    "    ## Optim\n",
    "    optimizer = optim.Adam(model.parameters(), lr=0.001)\n",
    "    criterion = nn.MSELoss()\n",
    "    \n",
    "    # Training loop\n",
    "    batch_size = 20\n",
    "    num_epochs = 50\n",
    "    \n",
    "    for epoch in range(num_epochs):\n",
    "        # Simple batch training\n",
    "        indices = torch.randperm(T)\n",
    "        total_loss = 0\n",
    "        \n",
    "        for i in range(0, T, batch_size):\n",
    "            batch_idx = indices[i:i+batch_size]\n",
    "            \n",
    "            beta_batch = beta_data[batch_idx]\n",
    "            S_batch = S_data[batch_idx]\n",
    "            r_batch = r_data[batch_idx]\n",
    "            \n",
    "            # Forward pass\n",
    "            r_pred = model(beta_batch, S_batch)\n",
    "            loss = criterion(r_pred, r_batch)\n",
    "            \n",
    "            # Backward pass\n",
    "            optimizer.zero_grad()\n",
    "            loss.backward()\n",
    "            optimizer.step()\n",
    "            \n",
    "            total_loss += loss.item()\n",
    "        \n",
    "    model.eval()\n",
    "    with torch.no_grad():\n",
    "        g_beta = model.g(beta_data)\n",
    "        r_pred = model(beta_data, S_data)\n",
    "    \n",
    "    g_beta_np = g_beta.detach().numpy()\n",
    "    r_np = r_data.numpy()\n",
    "\n",
    "    r_pred_np = r_pred.numpy()\n",
    "\n",
    "    rho = np.zeros(T)\n",
    "    for t in range(T):\n",
    "        rho[t] = np.corrcoef(r[t], r_pred_np[t])[0,1]\n",
    "    rho_avg[l] = np.mean(rho)\n",
    "    \n",
    "    S_hat = np.array([Ridge(alpha=1.0, fit_intercept=False).fit(g_beta_np[t], r_np[t]).coef_ for t in range(len(r_data))])\n",
    "    S_data = torch.from_numpy(S_hat).float()    "
   ]
  },
  {
   "cell_type": "code",
   "execution_count": 250,
   "id": "6d807117-4882-4821-8b40-d4e735383283",
   "metadata": {},
   "outputs": [
    {
     "data": {
      "text/plain": [
       "Text(0.5, 1.0, 'Alternate NN and Ridge\\n')"
      ]
     },
     "execution_count": 250,
     "metadata": {},
     "output_type": "execute_result"
    },
    {
     "data": {
      "image/png": "[encoded data removed]",
      "text/plain": [
       "<Figure size 600x400 with 1 Axes>"
      ]
     },
     "metadata": {},
     "output_type": "display_data"
    }
   ],
   "source": [
    "fig, ax = plt.subplots(figsize=(6,4))\n",
    "ax.plot(range(nb_iter), rho_avg, color=cm.plasma(0.3), lw=0.8)\n",
    "ax.axhline(y=rho_expl_avg, color=cm.plasma(0.7), lw=1.)\n",
    "ax.set_title(\"Alternate NN and Ridge\\n\")"
   ]
  },
  {
   "cell_type": "code",
   "execution_count": 251,
   "id": "4182eead-f3ec-4f3c-9caa-e4d2efad39ed",
   "metadata": {},
   "outputs": [
    {
     "data": {
      "text/plain": [
       "[<matplotlib.lines.Line2D at 0x32c451cd0>]"
      ]
     },
     "execution_count": 251,
     "metadata": {},
     "output_type": "execute_result"
    },
    {
     "data": {
      "image/png": "[encoded data removed]",
      "text/plain": [
       "<Figure size 600x400 with 1 Axes>"
      ]
     },
     "metadata": {},
     "output_type": "display_data"
    }
   ],
   "source": [
    "fig, ax = plt.subplots(figsize=(6,4))\n",
    "#for t in range(T):\n",
    "\n",
    "t = 6\n",
    "ax.plot(r[t], r_expl[t], \"o\", alpha=0.4)"
   ]
  },
  {
   "cell_type": "code",
   "execution_count": null,
   "id": "c41f5407-a9e2-4677-9a14-dd5042351fdf",
   "metadata": {},
   "outputs": [],
   "source": []
  }
 ],
 "metadata": {
  "kernelspec": {
   "display_name": "Python 3 (ipykernel)",
   "language": "python",
   "name": "python3"
  },
  "language_info": {
   "codemirror_mode": {
    "name": "ipython",
    "version": 3
   },
   "file_extension": ".py",
   "mimetype": "text/x-python",
   "name": "python",
   "nbconvert_exporter": "python",
   "pygments_lexer": "ipython3",
   "version": "3.12.5"
  }
 },
 "nbformat": 4,
 "nbformat_minor": 5
}

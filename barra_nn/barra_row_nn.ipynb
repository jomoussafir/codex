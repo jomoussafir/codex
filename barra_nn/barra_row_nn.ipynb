{
 "cells": [
  {
   "cell_type": "code",
   "execution_count": 6,
   "id": "6fea5944-6835-4953-91b9-7fde13cb2437",
   "metadata": {},
   "outputs": [],
   "source": [
    "import numpy as np\n",
    "import matplotlib.pyplot as plt\n",
    "import matplotlib.cm as cm\n",
    "\n",
    "import torch\n",
    "import torch.nn as nn\n",
    "import torch.optim as optim\n",
    "from torch.utils.data import Dataset, DataLoader, random_split\n",
    "\n",
    "from sklearn.linear_model import Ridge\n",
    "\n",
    "from rich.progress import track"
   ]
  },
  {
   "cell_type": "code",
   "execution_count": 7,
   "id": "ee932dac-61ee-4601-a72a-fe344d6c8c01",
   "metadata": {},
   "outputs": [],
   "source": [
    "def arma(T, a, b, sigma):\n",
    "    e = sigma*np.random.normal(size=T)\n",
    "    for t in range(1,T):\n",
    "        e[t] = a*e[t-1] + e[t]\n",
    "    \n",
    "    x = np.zeros(T)\n",
    "    x[0] = e[0]\n",
    "    for t in range(1,T):\n",
    "        x[t] = b*x[t-1] + e[t]\n",
    "        \n",
    "    return x"
   ]
  },
  {
   "cell_type": "code",
   "execution_count": 8,
   "id": "dcc8b8f4-54ec-4259-8c3f-8a7854ad05a1",
   "metadata": {},
   "outputs": [],
   "source": [
    "class BarraNet(nn.Module):\n",
    "    def __init__(self, n, p, k, hidden_dims=[512, 256, 128]):\n",
    "        super().__init__()\n",
    "        self.n = n\n",
    "        self.p = p\n",
    "        self.k = k\n",
    "        \n",
    "        # Shared MLP that processes each row independently\n",
    "        layers = []\n",
    "        input_dim = p  # Single row input\n",
    "        \n",
    "        for hidden_dim in hidden_dims:\n",
    "            layers.extend([\n",
    "                nn.Linear(input_dim, hidden_dim),\n",
    "                nn.ReLU(),\n",
    "            ])\n",
    "            input_dim = hidden_dim\n",
    "        \n",
    "        # Output produces k values per row\n",
    "        layers.append(nn.Linear(input_dim, k))\n",
    "        self.mlp = nn.Sequential(*layers)\n",
    "    \n",
    "    def g(self, beta):\n",
    "        \"\"\"\n",
    "        Extract g(beta) - the learned transformation function\n",
    "        beta: (batch, n, p)\n",
    "        returns: (batch, n, k) - the transformation matrix\n",
    "        \"\"\"\n",
    "        batch_size = beta.shape[0]\n",
    "        # Reshape to process all rows at once\n",
    "        beta_flat = beta.reshape(batch_size * self.n, self.p)  # (batch*n, p)\n",
    "        g_flat = self.mlp(beta_flat)  # (batch*n, k)\n",
    "        return g_flat.reshape(batch_size, self.n, self.k)  # (batch, n, k)\n",
    "    \n",
    "    def forward(self, beta, R):\n",
    "        # beta: (batch, n, p)\n",
    "        # R: (batch, k)\n",
    "        \n",
    "        # Get g(beta) as (batch, n, k) matrix\n",
    "        g_beta = self.g(beta)  # (batch, n, k)\n",
    "        \n",
    "        # Matrix multiplication using einsum (more efficient for this case)\n",
    "        r_pred = torch.einsum('bnk,bk->bn', g_beta, R)  # (batch, n)\n",
    "        \n",
    "        return r_pred"
   ]
  },
  {
   "cell_type": "markdown",
   "id": "dc022d5b-183e-4910-b9fb-57f463c934d6",
   "metadata": {},
   "source": [
    "## Build data"
   ]
  },
  {
   "cell_type": "code",
   "execution_count": 24,
   "id": "09bef71a-05a6-4c93-974f-7eca6a1a9a31",
   "metadata": {},
   "outputs": [
    {
     "name": "stdout",
     "output_type": "stream",
     "text": [
      "0.5054193590288931\n",
      "CPU times: user 126 ms, sys: 10.9 ms, total: 136 ms\n",
      "Wall time: 126 ms\n"
     ]
    }
   ],
   "source": [
    "%%time\n",
    "\n",
    "T = 25\n",
    "n = 1000\n",
    "p = 20\n",
    "\n",
    "## set seed\n",
    "np.random.seed(56)\n",
    "\n",
    "## set beta[t]\n",
    "beta = np.zeros((T,n,p))\n",
    "for i in range(n):\n",
    "    for j in range(p):\n",
    "        beta[:,i,j] = arma(T, a=0.95, b=0.95, sigma=0.025)\n",
    "\n",
    "for t in range(T):\n",
    "    for j in range(p):\n",
    "        beta[t,:,j] = (beta[t,:,j] - beta[t,:,j].mean()) / beta[t,:,j].std()\n",
    "\n",
    "## R[t] and e[t]\n",
    "R = np.random.randn(T,p)\n",
    "e = np.random.randn(T,n)\n",
    "\n",
    "r = np.zeros((T,n))\n",
    "r_expl = np.zeros((T,n))\n",
    "for t in range(T):\n",
    "    r[t] = beta[t] @ R[t] + 5*e[t]\n",
    "    r_expl[t] = beta[t] @ R[t]\n",
    "\n",
    "rho_expl = np.zeros(T)\n",
    "for t in range(T):\n",
    "    rho_expl[t] = np.corrcoef(r[t], r_expl[t])[0,1]\n",
    "rho_expl_avg = np.mean(rho_expl)\n",
    "print(rho_expl_avg)"
   ]
  },
  {
   "cell_type": "code",
   "execution_count": 32,
   "id": "5ecb610f-d3d6-4d75-89ff-868675c69140",
   "metadata": {},
   "outputs": [
    {
     "data": {
      "application/vnd.jupyter.widget-view+json": {
       "model_id": "950413d217464b9e911c841801e0b2cb",
       "version_major": 2,
       "version_minor": 0
      },
      "text/plain": [
       "Output()"
      ]
     },
     "metadata": {},
     "output_type": "display_data"
    },
    {
     "data": {
      "text/html": [
       "<pre style=\"white-space:pre;overflow-x:auto;line-height:normal;font-family:Menlo,'DejaVu Sans Mono',consolas,'Courier New',monospace\"></pre>\n"
      ],
      "text/plain": []
     },
     "metadata": {},
     "output_type": "display_data"
    }
   ],
   "source": [
    "device = \"cpu\"\n",
    "\n",
    "## model dimension\n",
    "k = 20\n",
    "\n",
    "# Convert your data to tensors\n",
    "r_data = torch.from_numpy(r).float().to(device)\n",
    "beta_data = torch.from_numpy(beta).float().to(device)\n",
    "\n",
    "## nb_iter\n",
    "nb_iter = 100\n",
    "\n",
    "rho_avg = np.zeros(nb_iter)\n",
    "\n",
    "## Initialize S_hat\n",
    "S_hat = np.random.randn(T,k)\n",
    "S_data = torch.from_numpy(S_hat).float().to(device)\n",
    "\n",
    "for l in track(range(nb_iter)):\n",
    "\n",
    "    # Create model\n",
    "    model = BarraNet(n, p, k, hidden_dims=[128, 64]).to(device)\n",
    "    \n",
    "    ## Optim\n",
    "    optimizer = optim.Adam(model.parameters(), lr=0.001)\n",
    "    criterion = nn.MSELoss()\n",
    "    \n",
    "    # Training loop (unchanged)\n",
    "    batch_size = 20\n",
    "    num_epochs = 50\n",
    "    \n",
    "    for epoch in range(num_epochs):\n",
    "        indices = torch.randperm(T)\n",
    "        total_loss = 0\n",
    "        \n",
    "        for i in range(0, T, batch_size):\n",
    "            batch_idx = indices[i:i+batch_size]\n",
    "            \n",
    "            beta_batch = beta_data[batch_idx]\n",
    "            S_batch = S_data[batch_idx]\n",
    "            r_batch = r_data[batch_idx]\n",
    "            \n",
    "            # Forward pass\n",
    "            r_pred = model(beta_batch, S_batch)\n",
    "            loss = criterion(r_pred, r_batch)\n",
    "            \n",
    "            # Backward pass\n",
    "            optimizer.zero_grad()\n",
    "            loss.backward()\n",
    "            optimizer.step()\n",
    "            \n",
    "            total_loss += loss.item()\n",
    "    \n",
    "    model.eval()\n",
    "    with torch.no_grad():\n",
    "        g_beta = model.g(beta_data)\n",
    "        r_pred = model(beta_data, S_data)\n",
    "\n",
    "    g_beta_np = g_beta.cpu().detach().numpy()\n",
    "    r_np = r_data.cpu().numpy()\n",
    "    r_pred_np = r_pred.cpu().numpy()\n",
    "    \n",
    "    rho = np.zeros(T)\n",
    "    for t in range(T):\n",
    "        rho[t] = np.corrcoef(r[t], r_pred_np[t])[0,1]\n",
    "    rho_avg[l] = np.mean(rho)\n",
    "    \n",
    "    S_hat = np.array([Ridge(alpha=0., fit_intercept=False).fit(g_beta_np[t], r_np[t]).coef_ for t in range(len(r_data))])\n",
    "    S_data = torch.from_numpy(S_hat).float().to(device)    "
   ]
  },
  {
   "cell_type": "code",
   "execution_count": 33,
   "id": "02b6e004-3419-4464-b6c7-618417c69efd",
   "metadata": {},
   "outputs": [
    {
     "data": {
      "text/plain": [
       "(25, 1000, 20)"
      ]
     },
     "execution_count": 33,
     "metadata": {},
     "output_type": "execute_result"
    }
   ],
   "source": [
    "g_beta_np.shape"
   ]
  },
  {
   "cell_type": "code",
   "execution_count": 34,
   "id": "ce909bc9-52a9-4358-b8e1-4a86bfc6ec52",
   "metadata": {},
   "outputs": [
    {
     "data": {
      "text/plain": [
       "Text(0.5, 1.0, 'Alternate NN with Ridge\\n')"
      ]
     },
     "execution_count": 34,
     "metadata": {},
     "output_type": "execute_result"
    },
    {
     "data": {
      "image/png": "[encoded data removed]",
      "text/plain": [
       "<Figure size 600x400 with 1 Axes>"
      ]
     },
     "metadata": {},
     "output_type": "display_data"
    }
   ],
   "source": [
    "fig, ax = plt.subplots(figsize=(6,4))\n",
    "ax.plot(range(nb_iter), rho_avg, color=cm.plasma(0.3), lw=0.8)\n",
    "ax.axhline(y=rho_expl_avg, color=cm.plasma(0.7), lw=1., linestyle=\"dashed\")\n",
    "ax.set_ylim([0, None])\n",
    "ax.set_title(\"Alternate NN with Ridge\\n\")"
   ]
  },
  {
   "cell_type": "code",
   "execution_count": null,
   "id": "c64af7d2-194f-413c-a7d2-14009c38c236",
   "metadata": {},
   "outputs": [],
   "source": []
  }
 ],
 "metadata": {
  "kernelspec": {
   "display_name": "Python 3 (ipykernel)",
   "language": "python",
   "name": "python3"
  },
  "language_info": {
   "codemirror_mode": {
    "name": "ipython",
    "version": 3
   },
   "file_extension": ".py",
   "mimetype": "text/x-python",
   "name": "python",
   "nbconvert_exporter": "python",
   "pygments_lexer": "ipython3",
   "version": "3.12.5"
  }
 },
 "nbformat": 4,
 "nbformat_minor": 5
}
